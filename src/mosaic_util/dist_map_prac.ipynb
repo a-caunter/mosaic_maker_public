{
 "cells": [
  {
   "cell_type": "code",
   "execution_count": 35,
   "metadata": {},
   "outputs": [],
   "source": [
    "import numpy as np"
   ]
  },
  {
   "cell_type": "code",
   "execution_count": 69,
   "metadata": {},
   "outputs": [],
   "source": [
    "def gen_density_map():\n",
    "    density_scale = np.zeros((10, 10, 10))\n",
    "    r, c, d = density_scale.shape\n",
    "    for i in range(r):\n",
    "        for j in range(c):\n",
    "            for k in range(d):\n",
    "                if i == 0 and j == 0 and k == 0:\n",
    "                    density_scale[i, j, k] = 1\n",
    "                else:\n",
    "                    density_scale[i, j, k] = 1 / ((i**2 + j**2 + k**2) ** 0.5)  # 1/dist\n",
    "    v_flip = np.flip(density_scale, axis=0)\n",
    "    density_scale = np.concatenate((v_flip, density_scale[1:, :, :]), axis=0)\n",
    "    h_flip = np.flip(density_scale, axis=1)\n",
    "    density_scale = np.concatenate([h_flip, density_scale[:, 1:, :]], axis=1)\n",
    "    d_flip = np.flip(density_scale, axis=2)\n",
    "    density_scale = np.concatenate([d_flip, density_scale[:, :, 1:]], axis=2)\n",
    "    return density_scale"
   ]
  },
  {
   "cell_type": "code",
   "execution_count": 70,
   "metadata": {},
   "outputs": [
    {
     "data": {
      "text/plain": [
       "(19, 19, 19)"
      ]
     },
     "execution_count": 70,
     "metadata": {},
     "output_type": "execute_result"
    }
   ],
   "source": [
    "density_scale = gen_density_map()\n",
    "density_scale.shape"
   ]
  },
  {
   "cell_type": "code",
   "execution_count": 77,
   "metadata": {},
   "outputs": [],
   "source": [
    "count = np.ones((3, 3, 3))\n",
    "count[0, 0, 0] = 1\n",
    "count[-1, -1, -1] = 1"
   ]
  },
  {
   "cell_type": "code",
   "execution_count": 78,
   "metadata": {},
   "outputs": [
    {
     "name": "stdout",
     "output_type": "stream",
     "text": [
      "9\n",
      "3 3 3\n"
     ]
    },
    {
     "data": {
      "text/plain": [
       "array([[[14.45603236, 16.02672924, 14.45603236],\n",
       "        [16.02672924, 17.88810287, 16.02672924],\n",
       "        [14.45603236, 16.02672924, 14.45603236]],\n",
       "\n",
       "       [[16.02672924, 17.88810287, 16.02672924],\n",
       "        [17.88810287, 20.10408353, 17.88810287],\n",
       "        [16.02672924, 17.88810287, 16.02672924]],\n",
       "\n",
       "       [[14.45603236, 16.02672924, 14.45603236],\n",
       "        [16.02672924, 17.88810287, 16.02672924],\n",
       "        [14.45603236, 16.02672924, 14.45603236]]])"
      ]
     },
     "execution_count": 78,
     "metadata": {},
     "output_type": "execute_result"
    }
   ],
   "source": [
    "density_map = np.zeros((3, 3, 3))\n",
    "mid = density_scale.shape[0] // 2\n",
    "print(mid)\n",
    "r, c, d = density_map.shape\n",
    "print(r, c, d)\n",
    "for i in range(r):\n",
    "    for j in range(c):\n",
    "        for k in range(d):\n",
    "            density_map[i, j, k] = np.sum(\n",
    "                density_scale[mid - i : mid - i + 3, mid - j : mid - j + 3, mid - k : mid - k + 3]\n",
    "                * count\n",
    "            )\n",
    "\n",
    "density_map"
   ]
  },
  {
   "cell_type": "code",
   "execution_count": 79,
   "metadata": {},
   "outputs": [],
   "source": [
    "b = np.arange(1000)"
   ]
  },
  {
   "cell_type": "code",
   "execution_count": 80,
   "metadata": {},
   "outputs": [],
   "source": [
    "b = np.arange(1000).reshape(10, 10, 10)"
   ]
  },
  {
   "cell_type": "code",
   "execution_count": 81,
   "metadata": {},
   "outputs": [
    {
     "data": {
      "text/plain": [
       "array([  0, 100, 200, 300, 400, 500, 600, 700, 800, 900])"
      ]
     },
     "execution_count": 81,
     "metadata": {},
     "output_type": "execute_result"
    }
   ],
   "source": [
    "b[:, 0, 0]"
   ]
  },
  {
   "cell_type": "code",
   "execution_count": 82,
   "metadata": {},
   "outputs": [
    {
     "data": {
      "text/plain": [
       "array([ 0, 10, 20, 30, 40, 50, 60, 70, 80, 90])"
      ]
     },
     "execution_count": 82,
     "metadata": {},
     "output_type": "execute_result"
    }
   ],
   "source": [
    "b[0, :, 0]"
   ]
  },
  {
   "cell_type": "code",
   "execution_count": 83,
   "metadata": {},
   "outputs": [],
   "source": [
    "b = np.arange(64).reshape(4, 4, 4)"
   ]
  },
  {
   "cell_type": "code",
   "execution_count": 84,
   "metadata": {},
   "outputs": [
    {
     "data": {
      "text/plain": [
       "array([[ 0,  4,  8, 12],\n",
       "       [16, 20, 24, 28],\n",
       "       [32, 36, 40, 44],\n",
       "       [48, 52, 56, 60]])"
      ]
     },
     "execution_count": 84,
     "metadata": {},
     "output_type": "execute_result"
    }
   ],
   "source": [
    "b[:, :, 0]"
   ]
  },
  {
   "cell_type": "code",
   "execution_count": 85,
   "metadata": {},
   "outputs": [
    {
     "data": {
      "text/plain": [
       "array([[ 0,  1,  2,  3],\n",
       "       [16, 17, 18, 19],\n",
       "       [32, 33, 34, 35],\n",
       "       [48, 49, 50, 51]])"
      ]
     },
     "execution_count": 85,
     "metadata": {},
     "output_type": "execute_result"
    }
   ],
   "source": [
    "b[:, 0, :]"
   ]
  },
  {
   "cell_type": "code",
   "execution_count": 86,
   "metadata": {},
   "outputs": [
    {
     "data": {
      "text/plain": [
       "array([[ 0,  1,  2,  3],\n",
       "       [ 4,  5,  6,  7],\n",
       "       [ 8,  9, 10, 11],\n",
       "       [12, 13, 14, 15]])"
      ]
     },
     "execution_count": 86,
     "metadata": {},
     "output_type": "execute_result"
    }
   ],
   "source": [
    "b[0, :, :]"
   ]
  },
  {
   "cell_type": "code",
   "execution_count": 87,
   "metadata": {},
   "outputs": [],
   "source": [
    "c = b.reshape(2, 2, 2, 2, 2, 2)"
   ]
  },
  {
   "cell_type": "code",
   "execution_count": 88,
   "metadata": {},
   "outputs": [
    {
     "data": {
      "text/plain": [
       "array([[[ 84, 100],\n",
       "        [148, 164]],\n",
       "\n",
       "       [[340, 356],\n",
       "        [404, 420]]])"
      ]
     },
     "execution_count": 88,
     "metadata": {},
     "output_type": "execute_result"
    }
   ],
   "source": [
    "summed_array = c.sum(axis=(1, 3, 5))\n",
    "summed_array"
   ]
  },
  {
   "cell_type": "code",
   "execution_count": 89,
   "metadata": {},
   "outputs": [
    {
     "data": {
      "text/plain": [
       "array([[[[[[ 0,  1],\n",
       "           [ 2,  3]],\n",
       "\n",
       "          [[ 4,  5],\n",
       "           [ 6,  7]]],\n",
       "\n",
       "\n",
       "         [[[ 8,  9],\n",
       "           [10, 11]],\n",
       "\n",
       "          [[12, 13],\n",
       "           [14, 15]]]],\n",
       "\n",
       "\n",
       "\n",
       "        [[[[16, 17],\n",
       "           [18, 19]],\n",
       "\n",
       "          [[20, 21],\n",
       "           [22, 23]]],\n",
       "\n",
       "\n",
       "         [[[24, 25],\n",
       "           [26, 27]],\n",
       "\n",
       "          [[28, 29],\n",
       "           [30, 31]]]]],\n",
       "\n",
       "\n",
       "\n",
       "\n",
       "       [[[[[32, 33],\n",
       "           [34, 35]],\n",
       "\n",
       "          [[36, 37],\n",
       "           [38, 39]]],\n",
       "\n",
       "\n",
       "         [[[40, 41],\n",
       "           [42, 43]],\n",
       "\n",
       "          [[44, 45],\n",
       "           [46, 47]]]],\n",
       "\n",
       "\n",
       "\n",
       "        [[[[48, 49],\n",
       "           [50, 51]],\n",
       "\n",
       "          [[52, 53],\n",
       "           [54, 55]]],\n",
       "\n",
       "\n",
       "         [[[56, 57],\n",
       "           [58, 59]],\n",
       "\n",
       "          [[60, 61],\n",
       "           [62, 63]]]]]])"
      ]
     },
     "execution_count": 89,
     "metadata": {},
     "output_type": "execute_result"
    }
   ],
   "source": [
    "c"
   ]
  },
  {
   "cell_type": "code",
   "execution_count": null,
   "metadata": {},
   "outputs": [],
   "source": []
  }
 ],
 "metadata": {
  "kernelspec": {
   "display_name": "mosaic",
   "language": "python",
   "name": "python3"
  },
  "language_info": {
   "codemirror_mode": {
    "name": "ipython",
    "version": 3
   },
   "file_extension": ".py",
   "mimetype": "text/x-python",
   "name": "python",
   "nbconvert_exporter": "python",
   "pygments_lexer": "ipython3",
   "version": "3.11.5"
  }
 },
 "nbformat": 4,
 "nbformat_minor": 2
}
